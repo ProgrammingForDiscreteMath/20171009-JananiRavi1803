{
 "cells": [
  {
   "cell_type": "markdown",
   "metadata": {},
   "source": [
    "## Problem 1\n",
    "Create an image half the size of the original image by choosing only the odd numbered rows and columns of pixels. To make life easier, I have loaded the image into a numpy array for you. Call the resulting array mbarray small. Hint: https://docs.scipy.org/doc/numpy-1.13.0/reference/arrays.indexing.html\n",
    "\n",
    "Call the resulting array ``smallmb``."
   ]
  },
  {
   "cell_type": "code",
   "execution_count": 1,
   "metadata": {
    "collapsed": true
   },
   "outputs": [],
   "source": [
    "import numpy as np # now all numpy commands can be accesses prefixed with \"np.\"\n",
    "from PIL import Image # PIL is the python image library\n",
    "mb = Image.open('mandelbrot_set.bmp')"
   ]
  },
  {
   "cell_type": "code",
   "execution_count": 2,
   "metadata": {
    "collapsed": true
   },
   "outputs": [],
   "source": [
    "mbarray = np.array(mb)"
   ]
  },
  {
   "cell_type": "code",
   "execution_count": null,
   "metadata": {
    "collapsed": true
   },
   "outputs": [],
   "source": []
  },
  {
   "cell_type": "markdown",
   "metadata": {},
   "source": [
    "### Display arrar by executing the following cell: "
   ]
  },
  {
   "cell_type": "code",
   "execution_count": null,
   "metadata": {
    "collapsed": true
   },
   "outputs": [],
   "source": [
    "Image.fromarray(smallmb, 'RGB')"
   ]
  },
  {
   "cell_type": "markdown",
   "metadata": {},
   "source": [
    "## Problem 2\n",
    "Write a function whose input is a three dimensional array with datatype ``'uint8'`` (for example, ``mbarray`` alreadu defined above) and which returns a 2-dimensional ``'uint8'``  array whose entries are the average of the RGB values of `arr`"
   ]
  },
  {
   "cell_type": "code",
   "execution_count": null,
   "metadata": {
    "collapsed": true
   },
   "outputs": [],
   "source": [
    "def greyscale(arr):\n",
    "    \"\"\"\n",
    "    Return greyscale version of RGB image represented by ``arr``.\n",
    "    \"\"\""
   ]
  },
  {
   "cell_type": "markdown",
   "metadata": {},
   "source": [
    "## Test you solution below:\n",
    "Execute the following cell."
   ]
  },
  {
   "cell_type": "code",
   "execution_count": null,
   "metadata": {
    "collapsed": true
   },
   "outputs": [],
   "source": [
    "Image.fromarray(greyscale(mbarray))"
   ]
  }
 ],
 "metadata": {
  "kernelspec": {
   "display_name": "SageMath 8.0",
   "language": "",
   "name": "sagemath"
  },
  "language_info": {
   "codemirror_mode": {
    "name": "ipython",
    "version": 2
   },
   "file_extension": ".py",
   "mimetype": "text/x-python",
   "name": "python",
   "nbconvert_exporter": "python",
   "pygments_lexer": "ipython2",
   "version": "2.7.13"
  }
 },
 "nbformat": 4,
 "nbformat_minor": 2
}
